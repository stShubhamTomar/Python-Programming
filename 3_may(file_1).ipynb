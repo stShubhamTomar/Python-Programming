{
 "cells": [
  {
   "cell_type": "markdown",
   "id": "f00ffccc-0044-4775-ab69-7ecfd0b762d9",
   "metadata": {},
   "source": [
    "# File I/O"
   ]
  },
  {
   "cell_type": "code",
   "execution_count": 2,
   "id": "586d2825-868b-4748-9909-43d377bb64c9",
   "metadata": {},
   "outputs": [
    {
     "name": "stdout",
     "output_type": "stream",
     "text": [
      "ind\n",
      "ia is\n",
      "dia i\n",
      "s a good country\n",
      "python is a funny language\n",
      "bye\n"
     ]
    }
   ],
   "source": [
    "#file=open(\"path\",\"mode\",\"encoding\")\n",
    "file=open(\"g:/msg.txt\",\"r\")\n",
    "#type(file)\n",
    "\n",
    "s=file.read(3)\n",
    "print(s)\n",
    "\n",
    "s=file.read(5)\n",
    "print(s)\n",
    "\n",
    "file.seek(2)\n",
    "s=file.read(5)\n",
    "print(s)\n",
    "\n",
    "s=file.read(-1)\n",
    "print(s)"
   ]
  },
  {
   "cell_type": "code",
   "execution_count": 3,
   "id": "ef1ea4c7-9c14-4f5a-a787-6c79881657d7",
   "metadata": {},
   "outputs": [],
   "source": [
    "file.close()"
   ]
  },
  {
   "cell_type": "code",
   "execution_count": 4,
   "id": "213fe8b7-3b50-469b-831e-ea701505095e",
   "metadata": {},
   "outputs": [
    {
     "name": "stdout",
     "output_type": "stream",
     "text": [
      "0\n",
      "india is a good country\n",
      "python is a funny language\n",
      "bye\n",
      "56\n"
     ]
    }
   ],
   "source": [
    "file=open(\"g:/msg.txt\",\"r\")\n",
    "print(file.tell())\n",
    "s=file.read(-1)\n",
    "print(s)\n",
    "print(file.tell())\n",
    "file.close()"
   ]
  },
  {
   "cell_type": "code",
   "execution_count": 6,
   "id": "1d37d93a-6128-43f5-a690-8680ae8a3575",
   "metadata": {},
   "outputs": [
    {
     "name": "stdout",
     "output_type": "stream",
     "text": [
      "india is a good country\n",
      "python is a funny language\n",
      "bye\n",
      "\n"
     ]
    }
   ],
   "source": [
    "file=open(\"g:/msg.txt\",\"r\")\n",
    "s=file.read()\n",
    "print(s)\n",
    "\n",
    "s=file.read()\n",
    "print(s)\n",
    "\n",
    "file.close()"
   ]
  },
  {
   "cell_type": "code",
   "execution_count": 7,
   "id": "ad005e04-15d5-4f9a-9e9d-f29a14e1c93a",
   "metadata": {},
   "outputs": [
    {
     "name": "stdout",
     "output_type": "stream",
     "text": [
      "india is a good country\n",
      "python is a funny language\n",
      "bye\n",
      "india is a good country\n",
      "python is a funny language\n",
      "bye\n"
     ]
    }
   ],
   "source": [
    "file=open(\"g:/msg.txt\",\"r\")\n",
    "s=file.read()\n",
    "print(s)\n",
    "\n",
    "file.seek(0)\n",
    "\n",
    "s=file.read()\n",
    "print(s)\n",
    "\n",
    "file.close()"
   ]
  },
  {
   "cell_type": "raw",
   "id": "a8b5b5ff-a424-448b-9e9b-ed78e0c5ec04",
   "metadata": {},
   "source": [
    "when we open a file it's cursor position is at begining of file i.e. at 0 position.\n",
    "\n",
    "read(no.)--> will read given no. of chars from next of cursor position and returns all chars as str.it also moves position of cursor and it will be char that was last read.if we do not specify num of chars then bydefault it is -1(i.e. all remaining chars)\n",
    "\n",
    "seek(position)-->reset cursor position\n",
    "\n",
    "tell()---->return current cursor position"
   ]
  },
  {
   "cell_type": "code",
   "execution_count": 8,
   "id": "b3eb1327-dc7f-4b53-9cc9-5dc2841121c8",
   "metadata": {},
   "outputs": [
    {
     "name": "stdout",
     "output_type": "stream",
     "text": [
      "india is a good country\n",
      "\n"
     ]
    }
   ],
   "source": [
    "file=open(\"g:/msg.txt\",\"r\")\n",
    "s=file.readline()\n",
    "print(s)\n",
    "\n",
    "file.close()"
   ]
  },
  {
   "cell_type": "code",
   "execution_count": 10,
   "id": "14276bc6-cb0f-4009-a3b3-71642ea59668",
   "metadata": {},
   "outputs": [
    {
     "name": "stdout",
     "output_type": "stream",
     "text": [
      " is a good country\n",
      "\n",
      "pyt\n",
      "hon is a funny language\n",
      "\n"
     ]
    }
   ],
   "source": [
    "file=open(\"g:/msg.txt\",\"r\")\n",
    "file.seek(5)\n",
    "\n",
    "s=file.readline()\n",
    "print(s)\n",
    "\n",
    "s=file.read(3)\n",
    "print(s)\n",
    "\n",
    "s=file.readline()\n",
    "print(s)\n",
    "\n",
    "file.close()"
   ]
  },
  {
   "cell_type": "code",
   "execution_count": 12,
   "id": "5f437235-5128-4d36-b7c2-7539864a607b",
   "metadata": {},
   "outputs": [
    {
     "name": "stdout",
     "output_type": "stream",
     "text": [
      "['india is a good country\\n', 'python is a funny language\\n', 'bye\\n']\n"
     ]
    }
   ],
   "source": [
    "file=open(\"g:/msg.txt\",\"r\")\n",
    "\n",
    "s=file.readlines()\n",
    "print(s)\n",
    "\n",
    "file.close()"
   ]
  },
  {
   "cell_type": "code",
   "execution_count": 16,
   "id": "89c9d331-cf9e-492d-badf-172d32a9e54e",
   "metadata": {},
   "outputs": [
    {
     "name": "stdout",
     "output_type": "stream",
     "text": [
      "1 india is a good country\n",
      "2 python is a funny language\n",
      "3 bye\n"
     ]
    }
   ],
   "source": [
    "file=open(\"g:/msg.txt\",\"r\")\n",
    "count=0\n",
    "for line in file:\n",
    "    count+=1\n",
    "    print(count,line,end=\"\")\n",
    "file.close()"
   ]
  },
  {
   "cell_type": "code",
   "execution_count": 17,
   "id": "1e00612b-4926-42c6-8a81-e2c36be8cb48",
   "metadata": {},
   "outputs": [
    {
     "name": "stdout",
     "output_type": "stream",
     "text": [
      "india is a good country\n",
      "python is a funny language\n",
      "bye\n",
      "\n"
     ]
    }
   ],
   "source": [
    "file=open(\"g:/msg.txt\",\"r\")\n",
    "s=file.read()\n",
    "print(s)\n",
    "file.close()"
   ]
  },
  {
   "cell_type": "code",
   "execution_count": 19,
   "id": "a2dca9cf-a7b8-4658-ae78-8c6a6e89af65",
   "metadata": {},
   "outputs": [
    {
     "data": {
      "text/plain": [
       "11"
      ]
     },
     "execution_count": 19,
     "metadata": {},
     "output_type": "execute_result"
    }
   ],
   "source": [
    "len(s.split())"
   ]
  },
  {
   "cell_type": "code",
   "execution_count": null,
   "id": "7f70a790-600c-4e7c-be65-1e9a627ce81d",
   "metadata": {},
   "outputs": [],
   "source": []
  }
 ],
 "metadata": {
  "kernelspec": {
   "display_name": "Python 3 (ipykernel)",
   "language": "python",
   "name": "python3"
  },
  "language_info": {
   "codemirror_mode": {
    "name": "ipython",
    "version": 3
   },
   "file_extension": ".py",
   "mimetype": "text/x-python",
   "name": "python",
   "nbconvert_exporter": "python",
   "pygments_lexer": "ipython3",
   "version": "3.10.9"
  }
 },
 "nbformat": 4,
 "nbformat_minor": 5
}
