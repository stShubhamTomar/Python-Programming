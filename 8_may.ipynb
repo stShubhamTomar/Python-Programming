{
 "cells": [
  {
   "cell_type": "markdown",
   "id": "fb4f9131-67fc-4c43-9af4-e0d9b29c0c3c",
   "metadata": {},
   "source": [
    "# Regular Expression(Regex)\n",
    "- It is a technique to search a text based on a pattern.\n",
    "- There are multiple applications of regex:\n",
    "    - data validation(email/username/pass/etc.)\n",
    "    - data cleaning\n",
    "    - pattern matching application\n",
    "    - compiler/interpreter\n",
    "    - etc.\n",
    "- python provides **re module** to work with regex."
   ]
  },
  {
   "cell_type": "code",
   "execution_count": 1,
   "id": "c8ff04ef-1b4d-49ba-9a6d-ddb3aea9f375",
   "metadata": {},
   "outputs": [],
   "source": [
    "text=\"\"\"Python is a funny language created by Guido VAN Rossum.\n",
    "i study python.it is easy to learn.\n",
    "i10.\"\"\"\n",
    "\n",
    "import re"
   ]
  },
  {
   "cell_type": "code",
   "execution_count": 18,
   "id": "5bd915ff-8f57-4794-b1ab-9145cd408c44",
   "metadata": {},
   "outputs": [
    {
     "name": "stdout",
     "output_type": "stream",
     "text": [
      "['is', 'id', 'i ', 'it', 'is', 'i1']\n",
      "[' is', 'uid', '.it', ' is']\n",
      "['is', 'id', 'it', 'is']\n",
      "['is', 'id', 'it', 'is']\n",
      "['hon', 'fun', 'lan', 'gua', 'rea', 'ted', 'uid', 'sum', 'tud', 'hon', 'eas', 'lea']\n"
     ]
    }
   ],
   "source": [
    "matches=re.findall(\"i.\",text)\n",
    "print(matches)\n",
    "\n",
    "matches=re.findall(\".i.\",text)\n",
    "print(matches)\n",
    "\n",
    "matches=re.findall(\"i[abcdefghjklmnopqrstuvwxyz]\",text)\n",
    "print(matches)\n",
    "\n",
    "matches=re.findall(\"i[a-z]\",text)\n",
    "print(matches)\n",
    "\n",
    "matches=re.findall(\"[a-z][aeiou][a-z]\",text)\n",
    "print(matches)\n"
   ]
  },
  {
   "cell_type": "code",
   "execution_count": 26,
   "id": "a3f4378f-a143-41b3-bbf0-07705b554e1a",
   "metadata": {},
   "outputs": [
    {
     "name": "stdout",
     "output_type": "stream",
     "text": [
      "['hon', 'fun', 'lan', 'gua', 'rea', 'ted', 'Gui', 'VAN', 'Ros', 'sum', 'tud', 'hon', 'Eas', 'lea']\n",
      "['hon', 'fun', 'lan', 'gua', 'rea', 'ted', 'Gui', 'Ros', 'sum', 'tud', 'hon', 'Eas', 'lea']\n",
      "['Pyt', 'n i', 's a', 'unn', 'y l', 'ang', 'age', 'cre', 'ate', 'd b', 'ido', 'oss', 'i s', 'udy', 'pyt', 'n.i', 't i', 'asy', 'o l', 'arn']\n",
      "['Pyth', 'Guid', 'Ross', 'Easy']\n",
      "['Pyth', 'Guid', 'Ross', 'Easy']\n",
      "['Python', 'Guido', 'Rossum', 'Easy']\n",
      "['Python', 'Guido', 'Rossum', 'Easy', 'To']\n",
      "['Python', 'Guido', 'V', 'A', 'N', 'Rossum', 'Easy', 'To']\n",
      "['Py', 'Gu', 'V', 'A', 'N', 'Ro', 'Ea', 'To']\n"
     ]
    }
   ],
   "source": [
    "text=\"\"\"Python is a funny language created by Guido VAN Rossum.\n",
    "i study python.it is Easy To learn.\n",
    "i10.\"\"\"\n",
    "\n",
    "matches=re.findall(\"[a-z][aeiou][a-z]\",text,re.I)\n",
    "print(matches)\n",
    "\n",
    "matches=re.findall(\"[a-zA-Z][aeiou][a-z]\",text)\n",
    "print(matches)\n",
    "\n",
    "matches=re.findall(\"[a-zA-Z][^aeiou][a-z]\",text)\n",
    "print(matches)\n",
    "\n",
    "matches=re.findall(\"[A-Z][a-z][a-z][a-z]\",text)\n",
    "print(matches)\n",
    "\n",
    "matches=re.findall(\"[A-Z][a-z]{3}\",text)\n",
    "print(matches)\n",
    "\n",
    "matches=re.findall(\"[A-Z][a-z]{3,5}\",text)\n",
    "print(matches)\n",
    "\n",
    "matches=re.findall(\"[A-Z][a-z]+\",text) #{1,N}\n",
    "print(matches)\n",
    "\n",
    "matches=re.findall(\"[A-Z][a-z]*\",text)#{0,N}\n",
    "print(matches)\n",
    "\n",
    "matches=re.findall(\"[A-Z][a-z]?\",text)#{0,1}\n",
    "print(matches)"
   ]
  },
  {
   "cell_type": "code",
   "execution_count": 29,
   "id": "fe8bc2a6-c647-4590-bc0c-574952e5db93",
   "metadata": {},
   "outputs": [
    {
     "name": "stdout",
     "output_type": "stream",
     "text": [
      "['2', '0', '2', '3', '1', '9', '9', '1']\n",
      "['20', '23', '19', '91']\n",
      "['2023', '1991']\n"
     ]
    }
   ],
   "source": [
    "text=\"we are studying python in 2023 but it was created in 1991.\"\n",
    "matches=re.findall(\"[0-9]\",text)\n",
    "print(matches)\n",
    "\n",
    "matches=re.findall(\"[0-9][0-9]\",text)\n",
    "print(matches)\n",
    "\n",
    "matches=re.findall(\"[0-9]{4}\",text)\n",
    "print(matches)"
   ]
  },
  {
   "cell_type": "code",
   "execution_count": 34,
   "id": "d00ede15-ae11-41c4-9bbf-5d48a419a8d2",
   "metadata": {},
   "outputs": [
    {
     "name": "stdout",
     "output_type": "stream",
     "text": [
      "['7307317207', '9560881478', '8527613026', '8130953537', '6202017213', '8872671774', '8218436890', '9307653986', '9814591373', '6392301488', '9877210855', '8090612304', '9518065022', '9119005522', '7762032368', '9625210489', '6399747404', '9012108005', '8539951739', '9910365505', '7018947893', '9450363841', '7007557372', '9582165977', '7903791205', '9582695434', '7303419389', '9911404791', '8447545171', '7303419389', '9528303395', '9582695434', '8470940005', '9548899446']\n"
     ]
    }
   ],
   "source": [
    "file=open(\"g:/students.txt\",\"r\")\n",
    "text=file.read()\n",
    "file.close()\n",
    "\n",
    "matches=re.findall(\"[6789][0-9]{9}\",text)\n",
    "print(matches)\n",
    "\n",
    "file=open(\"g:/mob.txt\",\"w\")\n",
    "for mob in matches:\n",
    "    file.write(mob)\n",
    "    file.write(\"\\n\")\n",
    "file.close()"
   ]
  },
  {
   "cell_type": "code",
   "execution_count": 47,
   "id": "cfae6da7-22f9-4d97-8689-99d030b7d90a",
   "metadata": {},
   "outputs": [
    {
     "name": "stdout",
     "output_type": "stream",
     "text": [
      "['sachinmodanwal52@gmail.com', 'gauravch272@gmail.com', 'pankajsanger32@gmail.com', 'devbratyadav88@gmail.com', 'rajnishpandey075@gmail.com', 'madhubala417997@gmail.com', 'yogeshsaini34553@gmail.com', 'khanehsanurrahman@gmail.com', 'sharmashrey0004@gmail.com', 'prateeksinghdeo012@gmail.com', 'softengineers.world@gmail.com', 'jaiswalpooja431@gmail.com', 'dishujakhad@gmail.com', 'alexarshad9@gmail.com', 'aunicsinha025@gmail.com', 'rockysunger9@gmail.com', 'abgaur111@gmail.com', 'preetcing1999@gmail.com', 'amankumarssm3@gmail.com', 'saxenaharsh2729@gmail.com', 'rohitkumarnanot@gmail.com', 'tiwariambikesh8@gmail.com', 'krisnashukla2@gmail.com', 'abpoddar22@gmail.com', 'abhishekbxr573@gmail.com', 'saanyaragrrawal@gmail.com', 'nishamall1311@gmail.com', 'vy40005@gmail.com', 'hurshit282@gmail.com', 'NISHAMALL1311@GMAIL.COM', 'aksh2000singh@gmail.com', 'saanyaragrrawal@gmail.com', 'ac.8470945@gmail.com', 'kanakkumari770@gmail.com']\n"
     ]
    }
   ],
   "source": [
    "file=open(\"g:/students.txt\",\"r\")\n",
    "text=file.read()\n",
    "file.close()\n",
    "\n",
    "\n",
    "matches=re.findall(r'\\b[A-Za-z0-9._%+-]+@[A-Za-z0-9.-]+\\.[A-Z|a-z]{2,7}\\b',text)\n",
    "matches=re.findall(\"[A-Za-z0-9._%+-]+@[A-Za-z0-9.-]+\\.[A-Z|a-z]{2,7}\",text)\n",
    "\n",
    "print(matches)\n",
    "\n",
    "file=open(\"g:/email.txt\",\"w\")\n",
    "for email in matches:\n",
    "    file.write(email)\n",
    "    file.write(\"\\n\")\n",
    "file.close()"
   ]
  },
  {
   "cell_type": "code",
   "execution_count": null,
   "id": "5a48e9d7-bcd0-494b-9520-5b5e1a643997",
   "metadata": {},
   "outputs": [],
   "source": []
  }
 ],
 "metadata": {
  "kernelspec": {
   "display_name": "Python 3 (ipykernel)",
   "language": "python",
   "name": "python3"
  },
  "language_info": {
   "codemirror_mode": {
    "name": "ipython",
    "version": 3
   },
   "file_extension": ".py",
   "mimetype": "text/x-python",
   "name": "python",
   "nbconvert_exporter": "python",
   "pygments_lexer": "ipython3",
   "version": "3.10.9"
  }
 },
 "nbformat": 4,
 "nbformat_minor": 5
}
